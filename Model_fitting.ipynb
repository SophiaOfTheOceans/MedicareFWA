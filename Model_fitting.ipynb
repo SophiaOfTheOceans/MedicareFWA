{
  "cells": [
    {
      "cell_type": "markdown",
      "source": [
        "### Data Loading"
      ],
      "metadata": {
        "id": "vM5zgC0CB1yS"
      }
    },
    {
      "cell_type": "code",
      "execution_count": null,
      "metadata": {
        "id": "ePYfzPsetWq8",
        "colab": {
          "base_uri": "https://localhost:8080/"
        },
        "outputId": "4a7fcb69-576f-4755-af26-0365ab8144ad"
      },
      "outputs": [
        {
          "output_type": "stream",
          "name": "stdout",
          "text": [
            "Drive already mounted at /content/drive; to attempt to forcibly remount, call drive.mount(\"/content/drive\", force_remount=True).\n"
          ]
        },
        {
          "output_type": "execute_result",
          "data": {
            "text/plain": [
              "   Prscrbr_NPI Prscrbr_Last_Org_Name Prscrbr_First_Name Prscrbr_State_Abrvtn  \\\n",
              "0   1003000126             Enkeshafi            Ardalan                   MD   \n",
              "1   1003000167               Escobar              Julio                   NV   \n",
              "2   1003000423               Velotta           Jennifer                   OH   \n",
              "3   1003000597                   Kim                Dae                   OK   \n",
              "4   1003000639             Benharash             Peyman                   CA   \n",
              "\n",
              "              Prscrbr_Type  Long_acting_opioid  Total_Claims  \\\n",
              "0        Internal Medicine                 NaN           169   \n",
              "1                  Dentist                 NaN            65   \n",
              "2  Obstetrics & Gynecology                 NaN            80   \n",
              "3                  Urology                 0.0          4116   \n",
              "4          Cardiac Surgery                 NaN            14   \n",
              "\n",
              "   Total_30day_Fills  Total_Day_Supply  Total_Drug_Cost  \\\n",
              "0              296.8              8388         11872.51   \n",
              "1               65.0               348           197.10   \n",
              "2              172.9              4962         12430.06   \n",
              "3             5471.0             92160        220361.52   \n",
              "4               14.0               420           143.36   \n",
              "\n",
              "   Covered_Recipient_NPI  Total_Payment_Sum  Num_Payments_Sum  \\\n",
              "0             1003000126              21.52               1.0   \n",
              "1             1003000167              88.63               3.0   \n",
              "2             1003000423             449.20              21.0   \n",
              "3             1003000597            1857.08              70.0   \n",
              "4             1003000639           16755.15              56.0   \n",
              "\n",
              "   Is_Physician_Owned  Is_Charity  Is_Entity  Is_Individual  Is_Covered  Fraud  \n",
              "0                   0           0          0              0           1      0  \n",
              "1                   0           0          0              0           1      0  \n",
              "2                   0           0          0              0           1      0  \n",
              "3                   0           0          0              0           1      0  \n",
              "4                   0           0          0              0           1      0  "
            ],
            "text/html": [
              "\n",
              "  <div id=\"df-dda5eec3-59ec-4bdd-80fe-62246e0a8d5e\" class=\"colab-df-container\">\n",
              "    <div>\n",
              "<style scoped>\n",
              "    .dataframe tbody tr th:only-of-type {\n",
              "        vertical-align: middle;\n",
              "    }\n",
              "\n",
              "    .dataframe tbody tr th {\n",
              "        vertical-align: top;\n",
              "    }\n",
              "\n",
              "    .dataframe thead th {\n",
              "        text-align: right;\n",
              "    }\n",
              "</style>\n",
              "<table border=\"1\" class=\"dataframe\">\n",
              "  <thead>\n",
              "    <tr style=\"text-align: right;\">\n",
              "      <th></th>\n",
              "      <th>Prscrbr_NPI</th>\n",
              "      <th>Prscrbr_Last_Org_Name</th>\n",
              "      <th>Prscrbr_First_Name</th>\n",
              "      <th>Prscrbr_State_Abrvtn</th>\n",
              "      <th>Prscrbr_Type</th>\n",
              "      <th>Long_acting_opioid</th>\n",
              "      <th>Total_Claims</th>\n",
              "      <th>Total_30day_Fills</th>\n",
              "      <th>Total_Day_Supply</th>\n",
              "      <th>Total_Drug_Cost</th>\n",
              "      <th>Covered_Recipient_NPI</th>\n",
              "      <th>Total_Payment_Sum</th>\n",
              "      <th>Num_Payments_Sum</th>\n",
              "      <th>Is_Physician_Owned</th>\n",
              "      <th>Is_Charity</th>\n",
              "      <th>Is_Entity</th>\n",
              "      <th>Is_Individual</th>\n",
              "      <th>Is_Covered</th>\n",
              "      <th>Fraud</th>\n",
              "    </tr>\n",
              "  </thead>\n",
              "  <tbody>\n",
              "    <tr>\n",
              "      <th>0</th>\n",
              "      <td>1003000126</td>\n",
              "      <td>Enkeshafi</td>\n",
              "      <td>Ardalan</td>\n",
              "      <td>MD</td>\n",
              "      <td>Internal Medicine</td>\n",
              "      <td>NaN</td>\n",
              "      <td>169</td>\n",
              "      <td>296.8</td>\n",
              "      <td>8388</td>\n",
              "      <td>11872.51</td>\n",
              "      <td>1003000126</td>\n",
              "      <td>21.52</td>\n",
              "      <td>1.0</td>\n",
              "      <td>0</td>\n",
              "      <td>0</td>\n",
              "      <td>0</td>\n",
              "      <td>0</td>\n",
              "      <td>1</td>\n",
              "      <td>0</td>\n",
              "    </tr>\n",
              "    <tr>\n",
              "      <th>1</th>\n",
              "      <td>1003000167</td>\n",
              "      <td>Escobar</td>\n",
              "      <td>Julio</td>\n",
              "      <td>NV</td>\n",
              "      <td>Dentist</td>\n",
              "      <td>NaN</td>\n",
              "      <td>65</td>\n",
              "      <td>65.0</td>\n",
              "      <td>348</td>\n",
              "      <td>197.10</td>\n",
              "      <td>1003000167</td>\n",
              "      <td>88.63</td>\n",
              "      <td>3.0</td>\n",
              "      <td>0</td>\n",
              "      <td>0</td>\n",
              "      <td>0</td>\n",
              "      <td>0</td>\n",
              "      <td>1</td>\n",
              "      <td>0</td>\n",
              "    </tr>\n",
              "    <tr>\n",
              "      <th>2</th>\n",
              "      <td>1003000423</td>\n",
              "      <td>Velotta</td>\n",
              "      <td>Jennifer</td>\n",
              "      <td>OH</td>\n",
              "      <td>Obstetrics &amp; Gynecology</td>\n",
              "      <td>NaN</td>\n",
              "      <td>80</td>\n",
              "      <td>172.9</td>\n",
              "      <td>4962</td>\n",
              "      <td>12430.06</td>\n",
              "      <td>1003000423</td>\n",
              "      <td>449.20</td>\n",
              "      <td>21.0</td>\n",
              "      <td>0</td>\n",
              "      <td>0</td>\n",
              "      <td>0</td>\n",
              "      <td>0</td>\n",
              "      <td>1</td>\n",
              "      <td>0</td>\n",
              "    </tr>\n",
              "    <tr>\n",
              "      <th>3</th>\n",
              "      <td>1003000597</td>\n",
              "      <td>Kim</td>\n",
              "      <td>Dae</td>\n",
              "      <td>OK</td>\n",
              "      <td>Urology</td>\n",
              "      <td>0.0</td>\n",
              "      <td>4116</td>\n",
              "      <td>5471.0</td>\n",
              "      <td>92160</td>\n",
              "      <td>220361.52</td>\n",
              "      <td>1003000597</td>\n",
              "      <td>1857.08</td>\n",
              "      <td>70.0</td>\n",
              "      <td>0</td>\n",
              "      <td>0</td>\n",
              "      <td>0</td>\n",
              "      <td>0</td>\n",
              "      <td>1</td>\n",
              "      <td>0</td>\n",
              "    </tr>\n",
              "    <tr>\n",
              "      <th>4</th>\n",
              "      <td>1003000639</td>\n",
              "      <td>Benharash</td>\n",
              "      <td>Peyman</td>\n",
              "      <td>CA</td>\n",
              "      <td>Cardiac Surgery</td>\n",
              "      <td>NaN</td>\n",
              "      <td>14</td>\n",
              "      <td>14.0</td>\n",
              "      <td>420</td>\n",
              "      <td>143.36</td>\n",
              "      <td>1003000639</td>\n",
              "      <td>16755.15</td>\n",
              "      <td>56.0</td>\n",
              "      <td>0</td>\n",
              "      <td>0</td>\n",
              "      <td>0</td>\n",
              "      <td>0</td>\n",
              "      <td>1</td>\n",
              "      <td>0</td>\n",
              "    </tr>\n",
              "  </tbody>\n",
              "</table>\n",
              "</div>\n",
              "    <div class=\"colab-df-buttons\">\n",
              "\n",
              "  <div class=\"colab-df-container\">\n",
              "    <button class=\"colab-df-convert\" onclick=\"convertToInteractive('df-dda5eec3-59ec-4bdd-80fe-62246e0a8d5e')\"\n",
              "            title=\"Convert this dataframe to an interactive table.\"\n",
              "            style=\"display:none;\">\n",
              "\n",
              "  <svg xmlns=\"http://www.w3.org/2000/svg\" height=\"24px\" viewBox=\"0 -960 960 960\">\n",
              "    <path d=\"M120-120v-720h720v720H120Zm60-500h600v-160H180v160Zm220 220h160v-160H400v160Zm0 220h160v-160H400v160ZM180-400h160v-160H180v160Zm440 0h160v-160H620v160ZM180-180h160v-160H180v160Zm440 0h160v-160H620v160Z\"/>\n",
              "  </svg>\n",
              "    </button>\n",
              "\n",
              "  <style>\n",
              "    .colab-df-container {\n",
              "      display:flex;\n",
              "      gap: 12px;\n",
              "    }\n",
              "\n",
              "    .colab-df-convert {\n",
              "      background-color: #E8F0FE;\n",
              "      border: none;\n",
              "      border-radius: 50%;\n",
              "      cursor: pointer;\n",
              "      display: none;\n",
              "      fill: #1967D2;\n",
              "      height: 32px;\n",
              "      padding: 0 0 0 0;\n",
              "      width: 32px;\n",
              "    }\n",
              "\n",
              "    .colab-df-convert:hover {\n",
              "      background-color: #E2EBFA;\n",
              "      box-shadow: 0px 1px 2px rgba(60, 64, 67, 0.3), 0px 1px 3px 1px rgba(60, 64, 67, 0.15);\n",
              "      fill: #174EA6;\n",
              "    }\n",
              "\n",
              "    .colab-df-buttons div {\n",
              "      margin-bottom: 4px;\n",
              "    }\n",
              "\n",
              "    [theme=dark] .colab-df-convert {\n",
              "      background-color: #3B4455;\n",
              "      fill: #D2E3FC;\n",
              "    }\n",
              "\n",
              "    [theme=dark] .colab-df-convert:hover {\n",
              "      background-color: #434B5C;\n",
              "      box-shadow: 0px 1px 3px 1px rgba(0, 0, 0, 0.15);\n",
              "      filter: drop-shadow(0px 1px 2px rgba(0, 0, 0, 0.3));\n",
              "      fill: #FFFFFF;\n",
              "    }\n",
              "  </style>\n",
              "\n",
              "    <script>\n",
              "      const buttonEl =\n",
              "        document.querySelector('#df-dda5eec3-59ec-4bdd-80fe-62246e0a8d5e button.colab-df-convert');\n",
              "      buttonEl.style.display =\n",
              "        google.colab.kernel.accessAllowed ? 'block' : 'none';\n",
              "\n",
              "      async function convertToInteractive(key) {\n",
              "        const element = document.querySelector('#df-dda5eec3-59ec-4bdd-80fe-62246e0a8d5e');\n",
              "        const dataTable =\n",
              "          await google.colab.kernel.invokeFunction('convertToInteractive',\n",
              "                                                    [key], {});\n",
              "        if (!dataTable) return;\n",
              "\n",
              "        const docLinkHtml = 'Like what you see? Visit the ' +\n",
              "          '<a target=\"_blank\" href=https://colab.research.google.com/notebooks/data_table.ipynb>data table notebook</a>'\n",
              "          + ' to learn more about interactive tables.';\n",
              "        element.innerHTML = '';\n",
              "        dataTable['output_type'] = 'display_data';\n",
              "        await google.colab.output.renderOutput(dataTable, element);\n",
              "        const docLink = document.createElement('div');\n",
              "        docLink.innerHTML = docLinkHtml;\n",
              "        element.appendChild(docLink);\n",
              "      }\n",
              "    </script>\n",
              "  </div>\n",
              "\n",
              "\n",
              "<div id=\"df-659a0bef-3fbb-48a5-b74b-59dfa7e57fb4\">\n",
              "  <button class=\"colab-df-quickchart\" onclick=\"quickchart('df-659a0bef-3fbb-48a5-b74b-59dfa7e57fb4')\"\n",
              "            title=\"Suggest charts\"\n",
              "            style=\"display:none;\">\n",
              "\n",
              "<svg xmlns=\"http://www.w3.org/2000/svg\" height=\"24px\"viewBox=\"0 0 24 24\"\n",
              "     width=\"24px\">\n",
              "    <g>\n",
              "        <path d=\"M19 3H5c-1.1 0-2 .9-2 2v14c0 1.1.9 2 2 2h14c1.1 0 2-.9 2-2V5c0-1.1-.9-2-2-2zM9 17H7v-7h2v7zm4 0h-2V7h2v10zm4 0h-2v-4h2v4z\"/>\n",
              "    </g>\n",
              "</svg>\n",
              "  </button>\n",
              "\n",
              "<style>\n",
              "  .colab-df-quickchart {\n",
              "      --bg-color: #E8F0FE;\n",
              "      --fill-color: #1967D2;\n",
              "      --hover-bg-color: #E2EBFA;\n",
              "      --hover-fill-color: #174EA6;\n",
              "      --disabled-fill-color: #AAA;\n",
              "      --disabled-bg-color: #DDD;\n",
              "  }\n",
              "\n",
              "  [theme=dark] .colab-df-quickchart {\n",
              "      --bg-color: #3B4455;\n",
              "      --fill-color: #D2E3FC;\n",
              "      --hover-bg-color: #434B5C;\n",
              "      --hover-fill-color: #FFFFFF;\n",
              "      --disabled-bg-color: #3B4455;\n",
              "      --disabled-fill-color: #666;\n",
              "  }\n",
              "\n",
              "  .colab-df-quickchart {\n",
              "    background-color: var(--bg-color);\n",
              "    border: none;\n",
              "    border-radius: 50%;\n",
              "    cursor: pointer;\n",
              "    display: none;\n",
              "    fill: var(--fill-color);\n",
              "    height: 32px;\n",
              "    padding: 0;\n",
              "    width: 32px;\n",
              "  }\n",
              "\n",
              "  .colab-df-quickchart:hover {\n",
              "    background-color: var(--hover-bg-color);\n",
              "    box-shadow: 0 1px 2px rgba(60, 64, 67, 0.3), 0 1px 3px 1px rgba(60, 64, 67, 0.15);\n",
              "    fill: var(--button-hover-fill-color);\n",
              "  }\n",
              "\n",
              "  .colab-df-quickchart-complete:disabled,\n",
              "  .colab-df-quickchart-complete:disabled:hover {\n",
              "    background-color: var(--disabled-bg-color);\n",
              "    fill: var(--disabled-fill-color);\n",
              "    box-shadow: none;\n",
              "  }\n",
              "\n",
              "  .colab-df-spinner {\n",
              "    border: 2px solid var(--fill-color);\n",
              "    border-color: transparent;\n",
              "    border-bottom-color: var(--fill-color);\n",
              "    animation:\n",
              "      spin 1s steps(1) infinite;\n",
              "  }\n",
              "\n",
              "  @keyframes spin {\n",
              "    0% {\n",
              "      border-color: transparent;\n",
              "      border-bottom-color: var(--fill-color);\n",
              "      border-left-color: var(--fill-color);\n",
              "    }\n",
              "    20% {\n",
              "      border-color: transparent;\n",
              "      border-left-color: var(--fill-color);\n",
              "      border-top-color: var(--fill-color);\n",
              "    }\n",
              "    30% {\n",
              "      border-color: transparent;\n",
              "      border-left-color: var(--fill-color);\n",
              "      border-top-color: var(--fill-color);\n",
              "      border-right-color: var(--fill-color);\n",
              "    }\n",
              "    40% {\n",
              "      border-color: transparent;\n",
              "      border-right-color: var(--fill-color);\n",
              "      border-top-color: var(--fill-color);\n",
              "    }\n",
              "    60% {\n",
              "      border-color: transparent;\n",
              "      border-right-color: var(--fill-color);\n",
              "    }\n",
              "    80% {\n",
              "      border-color: transparent;\n",
              "      border-right-color: var(--fill-color);\n",
              "      border-bottom-color: var(--fill-color);\n",
              "    }\n",
              "    90% {\n",
              "      border-color: transparent;\n",
              "      border-bottom-color: var(--fill-color);\n",
              "    }\n",
              "  }\n",
              "</style>\n",
              "\n",
              "  <script>\n",
              "    async function quickchart(key) {\n",
              "      const quickchartButtonEl =\n",
              "        document.querySelector('#' + key + ' button');\n",
              "      quickchartButtonEl.disabled = true;  // To prevent multiple clicks.\n",
              "      quickchartButtonEl.classList.add('colab-df-spinner');\n",
              "      try {\n",
              "        const charts = await google.colab.kernel.invokeFunction(\n",
              "            'suggestCharts', [key], {});\n",
              "      } catch (error) {\n",
              "        console.error('Error during call to suggestCharts:', error);\n",
              "      }\n",
              "      quickchartButtonEl.classList.remove('colab-df-spinner');\n",
              "      quickchartButtonEl.classList.add('colab-df-quickchart-complete');\n",
              "    }\n",
              "    (() => {\n",
              "      let quickchartButtonEl =\n",
              "        document.querySelector('#df-659a0bef-3fbb-48a5-b74b-59dfa7e57fb4 button');\n",
              "      quickchartButtonEl.style.display =\n",
              "        google.colab.kernel.accessAllowed ? 'block' : 'none';\n",
              "    })();\n",
              "  </script>\n",
              "</div>\n",
              "\n",
              "    </div>\n",
              "  </div>\n"
            ],
            "application/vnd.google.colaboratory.intrinsic+json": {
              "type": "dataframe",
              "variable_name": "df"
            }
          },
          "metadata": {},
          "execution_count": 108
        }
      ],
      "source": [
        "from google.colab import drive\n",
        "drive.mount('/content/drive')\n",
        "\n",
        "# Example: Load a CSV file\n",
        "import pandas as pd\n",
        "df = pd.read_csv('/content/drive/MyDrive/ISYE 6740 Project Files/data_cleaned.csv/part-00000-0db4eea5-232e-4109-a268-f9e84543421d-c000.csv') # Replace 'your_file.csv' with your file path\n",
        "df.head()\n"
      ]
    },
    {
      "cell_type": "code",
      "execution_count": null,
      "metadata": {
        "id": "nV-qRRAaxBEI",
        "colab": {
          "base_uri": "https://localhost:8080/"
        },
        "outputId": "7a5c13e0-e78a-4c61-80e5-4c78c133168d"
      },
      "outputs": [
        {
          "output_type": "execute_result",
          "data": {
            "text/plain": [
              "Fraud\n",
              "0    569033\n",
              "1       133\n",
              "Name: count, dtype: int64"
            ],
            "text/html": [
              "<div>\n",
              "<style scoped>\n",
              "    .dataframe tbody tr th:only-of-type {\n",
              "        vertical-align: middle;\n",
              "    }\n",
              "\n",
              "    .dataframe tbody tr th {\n",
              "        vertical-align: top;\n",
              "    }\n",
              "\n",
              "    .dataframe thead th {\n",
              "        text-align: right;\n",
              "    }\n",
              "</style>\n",
              "<table border=\"1\" class=\"dataframe\">\n",
              "  <thead>\n",
              "    <tr style=\"text-align: right;\">\n",
              "      <th></th>\n",
              "      <th>count</th>\n",
              "    </tr>\n",
              "    <tr>\n",
              "      <th>Fraud</th>\n",
              "      <th></th>\n",
              "    </tr>\n",
              "  </thead>\n",
              "  <tbody>\n",
              "    <tr>\n",
              "      <th>0</th>\n",
              "      <td>569033</td>\n",
              "    </tr>\n",
              "    <tr>\n",
              "      <th>1</th>\n",
              "      <td>133</td>\n",
              "    </tr>\n",
              "  </tbody>\n",
              "</table>\n",
              "</div><br><label><b>dtype:</b> int64</label>"
            ]
          },
          "metadata": {},
          "execution_count": 109
        }
      ],
      "source": [
        "# Merge into 1\n",
        "df['Fraud'].value_counts()"
      ]
    },
    {
      "cell_type": "code",
      "execution_count": null,
      "metadata": {
        "id": "IfXaRF6m3ESL"
      },
      "outputs": [],
      "source": [
        "df['Long_acting_opioid'] = df['Long_acting_opioid'].fillna(0)"
      ]
    },
    {
      "cell_type": "code",
      "source": [
        "df.info()"
      ],
      "metadata": {
        "colab": {
          "base_uri": "https://localhost:8080/"
        },
        "id": "gX9OLVOtprDs",
        "outputId": "be6c2209-5bf7-498b-b1cb-fc33fc7bd437"
      },
      "execution_count": null,
      "outputs": [
        {
          "output_type": "stream",
          "name": "stdout",
          "text": [
            "<class 'pandas.core.frame.DataFrame'>\n",
            "RangeIndex: 569166 entries, 0 to 569165\n",
            "Data columns (total 19 columns):\n",
            " #   Column                 Non-Null Count   Dtype  \n",
            "---  ------                 --------------   -----  \n",
            " 0   Prscrbr_NPI            569166 non-null  int64  \n",
            " 1   Prscrbr_Last_Org_Name  569166 non-null  object \n",
            " 2   Prscrbr_First_Name     569165 non-null  object \n",
            " 3   Prscrbr_State_Abrvtn   569166 non-null  object \n",
            " 4   Prscrbr_Type           569166 non-null  object \n",
            " 5   Long_acting_opioid     569166 non-null  float64\n",
            " 6   Total_Claims           569166 non-null  int64  \n",
            " 7   Total_30day_Fills      569166 non-null  float64\n",
            " 8   Total_Day_Supply       569166 non-null  int64  \n",
            " 9   Total_Drug_Cost        569166 non-null  float64\n",
            " 10  Covered_Recipient_NPI  569166 non-null  int64  \n",
            " 11  Total_Payment_Sum      569166 non-null  float64\n",
            " 12  Num_Payments_Sum       569166 non-null  float64\n",
            " 13  Is_Physician_Owned     569166 non-null  int64  \n",
            " 14  Is_Charity             569166 non-null  int64  \n",
            " 15  Is_Entity              569166 non-null  int64  \n",
            " 16  Is_Individual          569166 non-null  int64  \n",
            " 17  Is_Covered             569166 non-null  int64  \n",
            " 18  Fraud                  569166 non-null  int64  \n",
            "dtypes: float64(5), int64(10), object(4)\n",
            "memory usage: 82.5+ MB\n"
          ]
        }
      ]
    },
    {
      "cell_type": "code",
      "source": [
        "df.columns"
      ],
      "metadata": {
        "colab": {
          "base_uri": "https://localhost:8080/"
        },
        "id": "quwBFKxqsUcY",
        "outputId": "440a6b87-2489-4794-9a77-ca4de9434a9d"
      },
      "execution_count": null,
      "outputs": [
        {
          "output_type": "execute_result",
          "data": {
            "text/plain": [
              "Index(['Prscrbr_NPI', 'Prscrbr_Last_Org_Name', 'Prscrbr_First_Name',\n",
              "       'Prscrbr_State_Abrvtn', 'Prscrbr_Type', 'Long_acting_opioid',\n",
              "       'Total_Claims', 'Total_30day_Fills', 'Total_Day_Supply',\n",
              "       'Total_Drug_Cost', 'Covered_Recipient_NPI', 'Total_Payment_Sum',\n",
              "       'Num_Payments_Sum', 'Is_Physician_Owned', 'Is_Charity', 'Is_Entity',\n",
              "       'Is_Individual', 'Is_Covered', 'Fraud'],\n",
              "      dtype='object')"
            ]
          },
          "metadata": {},
          "execution_count": 112
        }
      ]
    },
    {
      "cell_type": "markdown",
      "source": [
        "### Process Data"
      ],
      "metadata": {
        "id": "YDGI9rnFs9Pg"
      }
    },
    {
      "cell_type": "code",
      "execution_count": null,
      "metadata": {
        "id": "gvQ6k6el25Rh"
      },
      "outputs": [],
      "source": [
        "from re import X\n",
        "# X = df.drop(['Fraud', 'Prscrbr_NPI', 'Prscrbr_Last_Org_Name', 'Prscrbr_First_Name','Covered_Recipient_NPI'], axis=1)\n",
        "X = df.drop(['Fraud', 'Prscrbr_NPI', 'Prscrbr_Last_Org_Name', 'Prscrbr_First_Name','Covered_Recipient_NPI','Is_Charity', 'Is_Entity', 'Is_Individual',\n",
        "       'Is_Covered', 'Prscrbr_State_Abrvtn'], axis=1)\n",
        "X = pd.get_dummies(X)\n",
        "y = df['Fraud']"
      ]
    },
    {
      "cell_type": "code",
      "execution_count": null,
      "metadata": {
        "id": "hUi97OriKojX"
      },
      "outputs": [],
      "source": [
        "from sklearn.metrics import classification_report, precision_score, recall_score, f1_score\n",
        "from sklearn.preprocessing import StandardScaler\n",
        "Scaler = StandardScaler().fit(X)\n",
        "X_scaled = Scaler.transform(X)"
      ]
    },
    {
      "cell_type": "markdown",
      "source": [
        "Split Train Test"
      ],
      "metadata": {
        "id": "Ma8OzdpttYYQ"
      }
    },
    {
      "cell_type": "code",
      "execution_count": null,
      "metadata": {
        "id": "lTC13b_n3_9i"
      },
      "outputs": [],
      "source": [
        "from sklearn.model_selection import train_test_split\n",
        "X_train, X_test, y_train, y_test = train_test_split(X, y, test_size=0.2, random_state=42, stratify=y)\n",
        "#Scaled\n",
        "X_train_scaled, X_test_scaled, y_train, y_test = train_test_split(X_scaled, y, test_size=0.2, random_state=42, stratify=y)"
      ]
    },
    {
      "cell_type": "markdown",
      "source": [
        "0 only data for Novelty Detection."
      ],
      "metadata": {
        "id": "KDZA_0mqttwZ"
      }
    },
    {
      "cell_type": "code",
      "source": [
        "# Scale Data\n",
        "X_train_scaled_0 = X_train_scaled[y_train == 0]\n",
        "X_test_scaled_0 = X_test_scaled[y_test == 0]"
      ],
      "metadata": {
        "id": "7Blz_f1H8WNy"
      },
      "execution_count": null,
      "outputs": []
    },
    {
      "cell_type": "markdown",
      "source": [
        "Create smaller version testing and training data"
      ],
      "metadata": {
        "id": "giYUP2UeuOw8"
      }
    },
    {
      "cell_type": "code",
      "source": [
        "# Randomly select 14235 of the X_train_scaled and X_train corresponding to y_train = 0 for easier model training...\n",
        "import random\n",
        "import numpy as np\n",
        "random.seed(42)\n",
        "\n",
        "train_indices = random.sample(range(len(X_train_scaled_0)), 14235)\n",
        "\n",
        "# Combine with the X_train corresponding to y_train = 1 for a smaller training set...\n",
        "X_train_scaled_1 = X_train_scaled[y_train == 1]\n",
        "X_train_1 = X_train[y_train == 1]\n",
        "X_train_scaled_small = np.concatenate([X_train_scaled_0[train_indices], X_train_scaled_1])\n",
        "X_train_small = pd.concat([X_train.iloc[train_indices], X_train_1])\n",
        "\n",
        "# get the y_train corresponding to the smaller set...\n",
        "y_train_1 = y_train[y_train == 1]\n",
        "y_train_small = pd.concat([y_train.iloc[train_indices], y_train_1])"
      ],
      "metadata": {
        "id": "IJWuxOAjo4XH"
      },
      "execution_count": null,
      "outputs": []
    },
    {
      "cell_type": "code",
      "source": [
        "y_train_small.value_counts()"
      ],
      "metadata": {
        "colab": {
          "base_uri": "https://localhost:8080/"
        },
        "id": "ejcmBkWw_-U7",
        "outputId": "b2b0ca19-76f9-4725-b6e1-8d459b94a51d"
      },
      "execution_count": null,
      "outputs": [
        {
          "output_type": "execute_result",
          "data": {
            "text/plain": [
              "Fraud\n",
              "0    14232\n",
              "1      109\n",
              "Name: count, dtype: int64"
            ],
            "text/html": [
              "<div>\n",
              "<style scoped>\n",
              "    .dataframe tbody tr th:only-of-type {\n",
              "        vertical-align: middle;\n",
              "    }\n",
              "\n",
              "    .dataframe tbody tr th {\n",
              "        vertical-align: top;\n",
              "    }\n",
              "\n",
              "    .dataframe thead th {\n",
              "        text-align: right;\n",
              "    }\n",
              "</style>\n",
              "<table border=\"1\" class=\"dataframe\">\n",
              "  <thead>\n",
              "    <tr style=\"text-align: right;\">\n",
              "      <th></th>\n",
              "      <th>count</th>\n",
              "    </tr>\n",
              "    <tr>\n",
              "      <th>Fraud</th>\n",
              "      <th></th>\n",
              "    </tr>\n",
              "  </thead>\n",
              "  <tbody>\n",
              "    <tr>\n",
              "      <th>0</th>\n",
              "      <td>14232</td>\n",
              "    </tr>\n",
              "    <tr>\n",
              "      <th>1</th>\n",
              "      <td>109</td>\n",
              "    </tr>\n",
              "  </tbody>\n",
              "</table>\n",
              "</div><br><label><b>dtype:</b> int64</label>"
            ]
          },
          "metadata": {},
          "execution_count": 118
        }
      ]
    },
    {
      "cell_type": "code",
      "source": [
        "test_indices = random.sample(range(len(X_test_scaled)), 4745)\n",
        "\n",
        "# Repeat same process for testing data\n",
        "X_test_scaled_1 = X_test_scaled[y_test == 1]\n",
        "X_test_1 = X_test[y_test == 1]\n",
        "X_test_scaled_small = np.concatenate([X_test_scaled_0[test_indices], X_test_scaled_1])\n",
        "X_test_small = pd.concat([X_test.iloc[test_indices], X_test_1])\n",
        "\n",
        "y_test_1 = y_test[y_test == 1]\n",
        "y_test_small = pd.concat([y_test.iloc[test_indices], y_test_1])"
      ],
      "metadata": {
        "id": "UgOM03wzwPZW"
      },
      "execution_count": null,
      "outputs": []
    },
    {
      "cell_type": "code",
      "source": [
        "y_test_small.value_counts()"
      ],
      "metadata": {
        "colab": {
          "base_uri": "https://localhost:8080/"
        },
        "id": "FeOJDW8YG-o8",
        "outputId": "853cfb5d-fcb6-4aea-bf11-dc9234ac21de"
      },
      "execution_count": null,
      "outputs": [
        {
          "output_type": "execute_result",
          "data": {
            "text/plain": [
              "Fraud\n",
              "0    4742\n",
              "1      30\n",
              "Name: count, dtype: int64"
            ],
            "text/html": [
              "<div>\n",
              "<style scoped>\n",
              "    .dataframe tbody tr th:only-of-type {\n",
              "        vertical-align: middle;\n",
              "    }\n",
              "\n",
              "    .dataframe tbody tr th {\n",
              "        vertical-align: top;\n",
              "    }\n",
              "\n",
              "    .dataframe thead th {\n",
              "        text-align: right;\n",
              "    }\n",
              "</style>\n",
              "<table border=\"1\" class=\"dataframe\">\n",
              "  <thead>\n",
              "    <tr style=\"text-align: right;\">\n",
              "      <th></th>\n",
              "      <th>count</th>\n",
              "    </tr>\n",
              "    <tr>\n",
              "      <th>Fraud</th>\n",
              "      <th></th>\n",
              "    </tr>\n",
              "  </thead>\n",
              "  <tbody>\n",
              "    <tr>\n",
              "      <th>0</th>\n",
              "      <td>4742</td>\n",
              "    </tr>\n",
              "    <tr>\n",
              "      <th>1</th>\n",
              "      <td>30</td>\n",
              "    </tr>\n",
              "  </tbody>\n",
              "</table>\n",
              "</div><br><label><b>dtype:</b> int64</label>"
            ]
          },
          "metadata": {},
          "execution_count": 120
        }
      ]
    },
    {
      "cell_type": "code",
      "source": [
        "from imblearn.over_sampling import RandomOverSampler, SMOTE\n",
        "X_ros, y_ros = RandomOverSampler(random_state=42).fit_resample(X_train_scaled_small, y_train_small)\n",
        "X_smote, y_smote = SMOTE(random_state=42).fit_resample(X_train_scaled_small, y_train_small)"
      ],
      "metadata": {
        "id": "zltNqNoaeI8f"
      },
      "execution_count": null,
      "outputs": []
    },
    {
      "cell_type": "markdown",
      "source": [
        "### Test Outlier Detection"
      ],
      "metadata": {
        "id": "6uDn6wAXBU3u"
      }
    },
    {
      "cell_type": "markdown",
      "source": [
        "#### LOF"
      ],
      "metadata": {
        "id": "QfFzq7E6Hj8n"
      }
    },
    {
      "cell_type": "code",
      "source": [
        "from sklearn.neighbors import LocalOutlierFactor\n",
        "from sklearn.metrics import classification_report\n",
        "import pandas as pd\n",
        "\n",
        "# Your samplings dictionary\n",
        "samplings = {\n",
        "    \"Original\": (X_train_scaled_small, y_train_small),\n",
        "    \"Random Oversampling\": (X_ros, y_ros),\n",
        "    \"SMOTE\": (X_smote, y_smote)\n",
        "}\n",
        "\n",
        "# List to store results\n",
        "results = []\n",
        "\n",
        "for name, (X_train, y_train) in samplings.items():\n",
        "    # Fit LOF only on the normal class (0)\n",
        "    lof = LocalOutlierFactor(novelty=True, n_neighbors=13, contamination=0.02)\n",
        "    lof.fit(X_train[y_train == 0])\n",
        "\n",
        "    # Predict on the test set\n",
        "    lof_pred = lof.predict(X_train_scaled_small)\n",
        "\n",
        "    # Convert predictions: outliers (-1) → 1, inliers (1) → 0\n",
        "    lof_pred = (lof_pred == -1).astype(int)\n",
        "\n",
        "    # Classification report for class 1 (novelties)\n",
        "    report = classification_report(y_train_small, lof_pred, output_dict=True, zero_division=0)['1']\n",
        "\n",
        "    # Save metrics\n",
        "    results.append({\n",
        "        \"Model\": \"LOF (Novelty)\",\n",
        "        \"Sampling\": name,\n",
        "        \"Precision\": report[\"precision\"],\n",
        "        \"Recall\": report[\"recall\"],\n",
        "        \"F1 Score\": report[\"f1-score\"]\n",
        "    })\n",
        "\n",
        "# Create and display results DataFrame\n",
        "lof_nov_results_df = pd.DataFrame(results)\n",
        "print(lof_nov_results_df)\n"
      ],
      "metadata": {
        "colab": {
          "base_uri": "https://localhost:8080/"
        },
        "id": "rBzRrLYSep3b",
        "outputId": "9fc88c71-3f0a-4fc5-c18f-3461adb41fe9"
      },
      "execution_count": null,
      "outputs": [
        {
          "output_type": "stream",
          "name": "stdout",
          "text": [
            "           Model             Sampling  Precision    Recall  F1 Score\n",
            "0  LOF (Novelty)             Original   0.023622  0.055046  0.033058\n",
            "1  LOF (Novelty)  Random Oversampling   0.023622  0.055046  0.033058\n",
            "2  LOF (Novelty)                SMOTE   0.023622  0.055046  0.033058\n"
          ]
        }
      ]
    },
    {
      "cell_type": "code",
      "execution_count": null,
      "metadata": {
        "colab": {
          "base_uri": "https://localhost:8080/",
          "height": 153,
          "referenced_widgets": [
            "ea8185ce69894f09ba3259d14633058c",
            "1ddeb4fd24384b10a6326fd4dd7ccccb",
            "3bedcd789ce7496c8415a7bc7865dd7f",
            "bbab831394bd4ed6bfd8c888217452d6",
            "f3e0c9905ef94300901403524d3f4c79",
            "58e57544a9504f668d396b52311bcbda",
            "e9efe02e1e3f44f798a92a67d908ace3",
            "768ac3e12e36417abf056270c598c43b",
            "63c1cae9ec454061b3cb6a4b5812a474",
            "a4cb65e1a26a417cae0e55c93d360ad8",
            "762df9c3c414410e8dc6b8b7aaae6721"
          ]
        },
        "id": "gt-N9ItD4BMZ",
        "outputId": "aed32908-a370-4516-81e8-2391dbe6e4a6"
      },
      "outputs": [
        {
          "output_type": "stream",
          "name": "stderr",
          "text": [
            "<ipython-input-123-2acaa5614d8d>:8: TqdmDeprecationWarning: This function will be removed in tqdm==5.0.0\n",
            "Please use `tqdm.notebook.tqdm` instead of `tqdm.tqdm_notebook`\n",
            "  for i in tqdm_notebook(range(50)):\n"
          ]
        },
        {
          "output_type": "display_data",
          "data": {
            "text/plain": [
              "  0%|          | 0/50 [00:00<?, ?it/s]"
            ],
            "application/vnd.jupyter.widget-view+json": {
              "version_major": 2,
              "version_minor": 0,
              "model_id": "ea8185ce69894f09ba3259d14633058c"
            }
          },
          "metadata": {}
        },
        {
          "output_type": "stream",
          "name": "stdout",
          "text": [
            "Best n_neighbors (precision):  12\n",
            "Best n_neighbors (recall):  12\n",
            "Best n_neighbors (f1-score):  12\n"
          ]
        }
      ],
      "source": [
        "from sklearn.neighbors import LocalOutlierFactor\n",
        "from sklearn.metrics import classification_report\n",
        "from tqdm import tqdm_notebook\n",
        "precision = []\n",
        "recall = []\n",
        "f1_score = []\n",
        "\n",
        "for i in tqdm_notebook(range(50)):\n",
        "  lof = LocalOutlierFactor(n_neighbors=i+1, contamination=0.005)\n",
        "  lof_pred = lof.fit_predict(X_train_scaled_small)\n",
        "  lof_pred = (lof_pred == -1).astype(int)\n",
        "  lof_report = classification_report(y_train_small, lof_pred, output_dict=True, zero_division=0)[\"1\"]\n",
        "\n",
        "  precision.append(lof_report[\"precision\"])\n",
        "  recall.append(lof_report[\"recall\"])\n",
        "  f1_score.append(lof_report[\"f1-score\"])\n",
        "\n",
        "print('Best n_neighbors (precision): ', precision.index(max(precision)))\n",
        "print('Best n_neighbors (recall): ', recall.index(max(recall)))\n",
        "print('Best n_neighbors (f1-score): ', f1_score.index(max(f1_score)))"
      ]
    },
    {
      "cell_type": "code",
      "source": [
        "# Your samplings dictionary\n",
        "samplings = {\n",
        "    \"Original\": (X_train_scaled_small, y_train_small),\n",
        "    \"Random Oversampling\": (X_ros, y_ros),\n",
        "    \"SMOTE\": (X_smote, y_smote)\n",
        "}\n",
        "\n",
        "# List to store results\n",
        "results = []\n",
        "\n",
        "for name, (X_train, y_train) in samplings.items():\n",
        "    # Fit LOF only on the normal class (0)\n",
        "    lof = LocalOutlierFactor(n_neighbors=13, contamination=0.01)\n",
        "    lof_pred = lof.fit_predict(X_train_scaled_small)\n",
        "    lof_pred = (lof_pred == -1).astype(int)\n",
        "\n",
        "    # Classification report for class 1 (novelties)\n",
        "    report = classification_report(y_train_small, lof_pred, output_dict=True, zero_division=0)['1']\n",
        "\n",
        "    # Save metrics\n",
        "    results.append({\n",
        "        \"Model\": \"LOF (Outiers)\",\n",
        "        \"Sampling\": name,\n",
        "        \"Precision\": report[\"precision\"],\n",
        "        \"Recall\": report[\"recall\"],\n",
        "        \"F1 Score\": report[\"f1-score\"]\n",
        "    })\n",
        "\n",
        "# Create and display results DataFrame\n",
        "lof_results_df = pd.DataFrame(results)\n",
        "print(lof_results_df)\n",
        "\n"
      ],
      "metadata": {
        "colab": {
          "base_uri": "https://localhost:8080/"
        },
        "id": "sb-gpwDaMgnS",
        "outputId": "3eef5f76-f426-4d9d-a7ae-b5db54f7e93e"
      },
      "execution_count": null,
      "outputs": [
        {
          "output_type": "stream",
          "name": "stdout",
          "text": [
            "           Model             Sampling  Precision    Recall  F1 Score\n",
            "0  LOF (Outiers)             Original   0.034722  0.045872  0.039526\n",
            "1  LOF (Outiers)  Random Oversampling   0.034722  0.045872  0.039526\n",
            "2  LOF (Outiers)                SMOTE   0.034722  0.045872  0.039526\n"
          ]
        }
      ]
    },
    {
      "cell_type": "code",
      "source": [
        "from imblearn.combine import SMOTETomek, SMOTEENN\n",
        "from imblearn.over_sampling import ADASYN\n",
        "from collections import Counter\n",
        "\n",
        "# SMOTE + Tomek Links (removes borderline/ambiguous points)\n",
        "smote_tomek = SMOTETomek(random_state=42)\n",
        "X_smote_tomek, y_smote_tomek = smote_tomek.fit_resample(X_train_scaled_small, y_train_small)\n",
        "print(\"After SMOTETomek:\", Counter(y_smote_tomek))\n",
        "\n",
        "# SMOTE + ENN (removes misclassified samples based on neighbors)\n",
        "smote_enn = SMOTEENN(random_state=42)\n",
        "X_smote_enn, y_smote_enn = smote_enn.fit_resample(X_train_scaled_small, y_train_small)\n",
        "print(\"After SMOTEENN:\", Counter(y_smote_enn))\n",
        "\n",
        "# ADASYN (focuses on harder examples in the minority class)\n",
        "adasyn = ADASYN(random_state=42, n_neighbors=5)\n",
        "X_adasyn, y_adasyn = adasyn.fit_resample(X_train_scaled_small, y_train_small)\n",
        "print(\"After ADASYN:\", Counter(y_adasyn))"
      ],
      "metadata": {
        "colab": {
          "base_uri": "https://localhost:8080/"
        },
        "id": "9S57VjT952cs",
        "outputId": "8e48ef40-4100-4d6d-baa7-2fa3e9bb9064"
      },
      "execution_count": null,
      "outputs": [
        {
          "output_type": "stream",
          "name": "stdout",
          "text": [
            "After SMOTETomek: Counter({0: 14170, 1: 14170})\n",
            "After SMOTEENN: Counter({1: 13704, 0: 12693})\n",
            "After ADASYN: Counter({0: 14232, 1: 14206})\n"
          ]
        }
      ]
    },
    {
      "cell_type": "code",
      "source": [
        "from sklearn.ensemble import RandomForestClassifier\n",
        "from sklearn.metrics import classification_report\n",
        "import pandas as pd\n",
        "\n",
        "# Your samplings dictionary\n",
        "samplings = {\n",
        "    \"Original\": (X_train_scaled_small, y_train_small),\n",
        "    \"Random Oversampling\": (X_ros, y_ros),\n",
        "    \"SMOTE\": (X_smote, y_smote),\n",
        "    \"SMOTE + Tomek Links\": (X_smote_tomek, y_smote_tomek),\n",
        "    \"SMOTE + ENN\": (X_smote_enn, y_smote_enn),\n",
        "    \"Adasyn\": (X_adasyn, y_adasyn)\n",
        "}\n",
        "\n",
        "# List to collect results\n",
        "results = []\n",
        "\n",
        "# Define the classifier with your hyperparameters\n",
        "rf = RandomForestClassifier(\n",
        "    n_estimators=200,\n",
        "    max_depth=60,\n",
        "    min_samples_split=2,\n",
        "    min_samples_leaf=1,\n",
        "    random_state=42\n",
        ")\n",
        "\n",
        "for name, (X_train, y_train) in samplings.items():\n",
        "    # Fit the classifier\n",
        "    rf.fit(X_train, y_train)\n",
        "\n",
        "    # Predict on the test set\n",
        "    rf_pred = rf.predict(X_test_scaled_small)\n",
        "\n",
        "    # Evaluate metrics for class '1'\n",
        "    report = classification_report(y_test_small, rf_pred, output_dict=True, zero_division=0)['1']\n",
        "\n",
        "    # Store the results\n",
        "    results.append({\n",
        "        \"Model\": \"Random Forest\",\n",
        "        \"Sampling\": name,\n",
        "        \"Precision\": report[\"precision\"],\n",
        "        \"Recall\": report[\"recall\"],\n",
        "        \"F1 Score\": report[\"f1-score\"]\n",
        "    })\n",
        "\n",
        "# Display the results as a DataFrame\n",
        "rf_results_df = pd.DataFrame(results)\n",
        "print(rf_results_df)"
      ],
      "metadata": {
        "colab": {
          "base_uri": "https://localhost:8080/"
        },
        "id": "Gqs3Z3MvNIkO",
        "outputId": "06e85e3c-a4dd-49c4-cb43-3f8c3e04905f"
      },
      "execution_count": null,
      "outputs": [
        {
          "output_type": "stream",
          "name": "stdout",
          "text": [
            "           Model             Sampling  Precision  Recall  F1 Score\n",
            "0  Random Forest             Original        0.0     0.0       0.0\n",
            "1  Random Forest  Random Oversampling        0.0     0.0       0.0\n",
            "2  Random Forest                SMOTE        0.0     0.0       0.0\n",
            "3  Random Forest  SMOTE + Tomek Links        0.0     0.0       0.0\n",
            "4  Random Forest          SMOTE + ENN        0.0     0.0       0.0\n",
            "5  Random Forest               Adasyn        0.0     0.0       0.0\n"
          ]
        }
      ]
    },
    {
      "cell_type": "code",
      "source": [
        "from sklearn.linear_model import LogisticRegression\n",
        "from sklearn.metrics import classification_report\n",
        "import pandas as pd\n",
        "\n",
        "# Your samplings dictionary\n",
        "samplings = {\n",
        "    \"Original\": (X_train_scaled_small, y_train_small),\n",
        "    \"Random Oversampling\": (X_ros, y_ros),\n",
        "    \"SMOTE\": (X_smote, y_smote),\n",
        "    \"SMOTE + Tomek Links\": (X_smote_tomek, y_smote_tomek),\n",
        "    \"SMOTE + ENN\": (X_smote_enn, y_smote_enn),\n",
        "    \"Adasyn\": (X_adasyn, y_adasyn)\n",
        "}\n",
        "\n",
        "results = []\n",
        "\n",
        "# Loop through each sampling strategy\n",
        "for name, (X_train, y_train) in samplings.items():\n",
        "    # Define logistic regression model\n",
        "    weights = {0: 1, 1: 10}\n",
        "    lr = LogisticRegression(random_state=42, class_weight=weights)  # 'liblinear' is good for small datasets or binary classification\n",
        "\n",
        "    # Fit model\n",
        "    lr.fit(X_train, y_train)\n",
        "\n",
        "    # Predict on the test set\n",
        "    y_pred = lr.predict(X_test_scaled_small)\n",
        "\n",
        "    # Classification report for class '1'\n",
        "    report = classification_report(y_test_small, y_pred, output_dict=True, zero_division=0)['1']\n",
        "\n",
        "    # Store metrics\n",
        "    results.append({\n",
        "        \"Model\": \"Logistic Regression\",\n",
        "        \"Sampling\": name,\n",
        "        \"Precision\": report[\"precision\"],\n",
        "        \"Recall\": report[\"recall\"],\n",
        "        \"F1 Score\": report[\"f1-score\"]\n",
        "    })\n",
        "\n",
        "# Convert to DataFrame\n",
        "lgresults_df = pd.DataFrame(results)\n",
        "print(lgresults_df)\n"
      ],
      "metadata": {
        "colab": {
          "base_uri": "https://localhost:8080/"
        },
        "id": "ObJ3Ix9D19wp",
        "outputId": "b04b4398-d50f-4313-c80a-f8f99a21b660"
      },
      "execution_count": null,
      "outputs": [
        {
          "output_type": "stream",
          "name": "stdout",
          "text": [
            "                 Model             Sampling  Precision  Recall  F1 Score\n",
            "0  Logistic Regression             Original   0.000000     0.0  0.000000\n",
            "1  Logistic Regression  Random Oversampling   0.006820     0.9  0.013537\n",
            "2  Logistic Regression                SMOTE   0.007181     0.9  0.014248\n",
            "3  Logistic Regression  SMOTE + Tomek Links   0.007183     0.9  0.014252\n",
            "4  Logistic Regression          SMOTE + ENN   0.007264     0.9  0.014412\n",
            "5  Logistic Regression               Adasyn   0.007158     0.9  0.014203\n"
          ]
        }
      ]
    },
    {
      "cell_type": "code",
      "source": [
        "from tensorflow.keras.metrics import Precision, Recall\n",
        "import tensorflow.keras.backend as K\n",
        "import tensorflow as tf\n",
        "from tensorflow.keras.models import Sequential\n",
        "from tensorflow.keras.layers import Dense, BatchNormalization, Activation, Dropout\n",
        "from tensorflow.keras.optimizers import Adam\n",
        "from sklearn.metrics import classification_report\n",
        "# Your samplings dictionary\n",
        "samplings = {\n",
        "    \"Original\": (X_train_scaled_small, y_train_small),\n",
        "    \"Random Oversampling\": (X_ros, y_ros),\n",
        "    \"SMOTE\": (X_smote, y_smote),\n",
        "    \"SMOTE + Tomek Links\": (X_smote_tomek, y_smote_tomek),\n",
        "    \"SMOTE + ENN\": (X_smote_enn, y_smote_enn),\n",
        "    \"Adasyn\": (X_adasyn, y_adasyn)\n",
        "}\n",
        "\n",
        "results = []\n",
        "\n",
        "# Loop through each sampling strategy\n",
        "for name, (X_train, y_train) in samplings.items():\n",
        "    # Define a new model each time to avoid weight carryover\n",
        "\n",
        "    model = Sequential()\n",
        "\n",
        "    model.add(Dense(128, input_dim=X_train.shape[1], activation='relu'))\n",
        "    # Input layer\n",
        "    model.add(Dense(32, name='dense_1'))\n",
        "    model.add(BatchNormalization(name='batch_norm_1'))\n",
        "    model.add(Activation('relu', name='activation_1'))\n",
        "    model.add(Dropout(0.5, name='dropout_1'))\n",
        "\n",
        "    # Hidden layer\n",
        "    model.add(Dense(32, name='dense_2'))\n",
        "    model.add(BatchNormalization(name='batch_norm_2'))\n",
        "    model.add(Activation('relu', name='activation_2'))\n",
        "    model.add(Dropout(0.5, name='dropout_2'))\n",
        "\n",
        "    # More Hidden layers\n",
        "    model.add(Dense(32, name='dense_3'))\n",
        "    model.add(BatchNormalization(name='batch_norm_3'))\n",
        "    model.add(Activation('relu', name='activation_3'))\n",
        "    model.add(Dropout(0.5, name='dropout_3'))\n",
        "\n",
        "    # Output layer\n",
        "    model.add(Dense(1, name='dense_4'))\n",
        "    model.add(Activation('sigmoid', name='activation_4'))\n",
        "\n",
        "\n",
        "    # Compile model\n",
        "    model.compile(optimizer=Adam(learning_rate=0.001),\n",
        "                  loss='binary_crossentropy',\n",
        "                  metrics=[Precision(), Recall()])\n",
        "\n",
        "    # Train model\n",
        "    model.fit(X_train, y_train, epochs=20, batch_size=32, verbose=0)\n",
        "\n",
        "    # Predict on test data\n",
        "    y_pred_probs = model.predict(X_test_scaled_small)\n",
        "    y_pred = (y_pred_probs >= 0.5).astype(int).flatten()\n",
        "\n",
        "    # Classification report for class '1'\n",
        "    report = classification_report(y_test_small, y_pred, output_dict=True, zero_division=0)['1']\n",
        "\n",
        "    # Store metrics\n",
        "    results.append({\n",
        "        \"Model\": \"Neural Network\",\n",
        "        \"Sampling\": name,\n",
        "        \"Precision\": report[\"precision\"],\n",
        "        \"Recall\": report[\"recall\"],\n",
        "        \"F1 Score\": report[\"f1-score\"]\n",
        "    })\n",
        "\n",
        "# Convert to DataFrame\n",
        "nn_results_df = pd.DataFrame(results)\n",
        "print(nn_results_df)\n"
      ],
      "metadata": {
        "colab": {
          "base_uri": "https://localhost:8080/"
        },
        "id": "DugFDw07QCXO",
        "outputId": "cf2569f5-173b-4cdc-bfa8-9add18bcc976"
      },
      "execution_count": null,
      "outputs": [
        {
          "output_type": "stream",
          "name": "stderr",
          "text": [
            "/usr/local/lib/python3.11/dist-packages/keras/src/layers/core/dense.py:87: UserWarning: Do not pass an `input_shape`/`input_dim` argument to a layer. When using Sequential models, prefer using an `Input(shape)` object as the first layer in the model instead.\n",
            "  super().__init__(activity_regularizer=activity_regularizer, **kwargs)\n"
          ]
        },
        {
          "output_type": "stream",
          "name": "stdout",
          "text": [
            "\u001b[1m150/150\u001b[0m \u001b[32m━━━━━━━━━━━━━━━━━━━━\u001b[0m\u001b[37m\u001b[0m \u001b[1m0s\u001b[0m 2ms/step\n"
          ]
        },
        {
          "output_type": "stream",
          "name": "stderr",
          "text": [
            "/usr/local/lib/python3.11/dist-packages/keras/src/layers/core/dense.py:87: UserWarning: Do not pass an `input_shape`/`input_dim` argument to a layer. When using Sequential models, prefer using an `Input(shape)` object as the first layer in the model instead.\n",
            "  super().__init__(activity_regularizer=activity_regularizer, **kwargs)\n"
          ]
        },
        {
          "output_type": "stream",
          "name": "stdout",
          "text": [
            "\u001b[1m150/150\u001b[0m \u001b[32m━━━━━━━━━━━━━━━━━━━━\u001b[0m\u001b[37m\u001b[0m \u001b[1m1s\u001b[0m 3ms/step\n"
          ]
        },
        {
          "output_type": "stream",
          "name": "stderr",
          "text": [
            "/usr/local/lib/python3.11/dist-packages/keras/src/layers/core/dense.py:87: UserWarning: Do not pass an `input_shape`/`input_dim` argument to a layer. When using Sequential models, prefer using an `Input(shape)` object as the first layer in the model instead.\n",
            "  super().__init__(activity_regularizer=activity_regularizer, **kwargs)\n"
          ]
        },
        {
          "output_type": "stream",
          "name": "stdout",
          "text": [
            "\u001b[1m150/150\u001b[0m \u001b[32m━━━━━━━━━━━━━━━━━━━━\u001b[0m\u001b[37m\u001b[0m \u001b[1m0s\u001b[0m 2ms/step\n"
          ]
        },
        {
          "output_type": "stream",
          "name": "stderr",
          "text": [
            "/usr/local/lib/python3.11/dist-packages/keras/src/layers/core/dense.py:87: UserWarning: Do not pass an `input_shape`/`input_dim` argument to a layer. When using Sequential models, prefer using an `Input(shape)` object as the first layer in the model instead.\n",
            "  super().__init__(activity_regularizer=activity_regularizer, **kwargs)\n"
          ]
        },
        {
          "output_type": "stream",
          "name": "stdout",
          "text": [
            "\u001b[1m150/150\u001b[0m \u001b[32m━━━━━━━━━━━━━━━━━━━━\u001b[0m\u001b[37m\u001b[0m \u001b[1m0s\u001b[0m 2ms/step\n"
          ]
        },
        {
          "output_type": "stream",
          "name": "stderr",
          "text": [
            "/usr/local/lib/python3.11/dist-packages/keras/src/layers/core/dense.py:87: UserWarning: Do not pass an `input_shape`/`input_dim` argument to a layer. When using Sequential models, prefer using an `Input(shape)` object as the first layer in the model instead.\n",
            "  super().__init__(activity_regularizer=activity_regularizer, **kwargs)\n"
          ]
        },
        {
          "output_type": "stream",
          "name": "stdout",
          "text": [
            "\u001b[1m150/150\u001b[0m \u001b[32m━━━━━━━━━━━━━━━━━━━━\u001b[0m\u001b[37m\u001b[0m \u001b[1m0s\u001b[0m 2ms/step\n"
          ]
        },
        {
          "output_type": "stream",
          "name": "stderr",
          "text": [
            "/usr/local/lib/python3.11/dist-packages/keras/src/layers/core/dense.py:87: UserWarning: Do not pass an `input_shape`/`input_dim` argument to a layer. When using Sequential models, prefer using an `Input(shape)` object as the first layer in the model instead.\n",
            "  super().__init__(activity_regularizer=activity_regularizer, **kwargs)\n"
          ]
        },
        {
          "output_type": "stream",
          "name": "stdout",
          "text": [
            "\u001b[1m150/150\u001b[0m \u001b[32m━━━━━━━━━━━━━━━━━━━━\u001b[0m\u001b[37m\u001b[0m \u001b[1m1s\u001b[0m 3ms/step\n",
            "            Model             Sampling  Precision    Recall  F1 Score\n",
            "0  Neural Network             Original   0.000000  0.000000  0.000000\n",
            "1  Neural Network  Random Oversampling   0.016453  0.300000  0.031196\n",
            "2  Neural Network                SMOTE   0.006761  0.333333  0.013254\n",
            "3  Neural Network  SMOTE + Tomek Links   0.007488  0.366667  0.014676\n",
            "4  Neural Network          SMOTE + ENN   0.012953  0.333333  0.024938\n",
            "5  Neural Network               Adasyn   0.013436  0.233333  0.025408\n"
          ]
        }
      ]
    },
    {
      "cell_type": "code",
      "execution_count": null,
      "metadata": {
        "id": "IM63xbx6oUe_",
        "colab": {
          "base_uri": "https://localhost:8080/"
        },
        "outputId": "91ba490c-84d3-4b0b-cc70-7e4deb358e20"
      },
      "outputs": [
        {
          "output_type": "execute_result",
          "data": {
            "text/plain": [
              "Index(['Long_acting_opioid', 'Total_Claims', 'Total_30day_Fills',\n",
              "       'Total_Day_Supply', 'Total_Drug_Cost', 'Total_Payment_Sum',\n",
              "       'Num_Payments_Sum', 'Is_Physician_Owned', 'Prscrbr_Type_Acupuncturist',\n",
              "       'Prscrbr_Type_Addiction Medicine',\n",
              "       ...\n",
              "       'Prscrbr_Type_Substance Abuse Rehabilitation Facility',\n",
              "       'Prscrbr_Type_Surgery', 'Prscrbr_Type_Surgical Oncology',\n",
              "       'Prscrbr_Type_Thoracic Surgery',\n",
              "       'Prscrbr_Type_Thoracic Surgery (Cardiothoracic Vascular Surgery)',\n",
              "       'Prscrbr_Type_Undefined Physician type',\n",
              "       'Prscrbr_Type_Undersea and Hyperbaric Medicine',\n",
              "       'Prscrbr_Type_Unknown Supplier/Provider Specialty',\n",
              "       'Prscrbr_Type_Urology', 'Prscrbr_Type_Vascular Surgery'],\n",
              "      dtype='object', length=148)"
            ]
          },
          "metadata": {},
          "execution_count": 130
        }
      ],
      "source": [
        "X.columns"
      ]
    }
  ],
  "metadata": {
    "colab": {
      "provenance": []
    },
    "kernelspec": {
      "display_name": "Python 3",
      "name": "python3"
    },
    "language_info": {
      "name": "python"
    },
    "widgets": {
      "application/vnd.jupyter.widget-state+json": {
        "ea8185ce69894f09ba3259d14633058c": {
          "model_module": "@jupyter-widgets/controls",
          "model_name": "HBoxModel",
          "model_module_version": "1.5.0",
          "state": {
            "_dom_classes": [],
            "_model_module": "@jupyter-widgets/controls",
            "_model_module_version": "1.5.0",
            "_model_name": "HBoxModel",
            "_view_count": null,
            "_view_module": "@jupyter-widgets/controls",
            "_view_module_version": "1.5.0",
            "_view_name": "HBoxView",
            "box_style": "",
            "children": [
              "IPY_MODEL_1ddeb4fd24384b10a6326fd4dd7ccccb",
              "IPY_MODEL_3bedcd789ce7496c8415a7bc7865dd7f",
              "IPY_MODEL_bbab831394bd4ed6bfd8c888217452d6"
            ],
            "layout": "IPY_MODEL_f3e0c9905ef94300901403524d3f4c79"
          }
        },
        "1ddeb4fd24384b10a6326fd4dd7ccccb": {
          "model_module": "@jupyter-widgets/controls",
          "model_name": "HTMLModel",
          "model_module_version": "1.5.0",
          "state": {
            "_dom_classes": [],
            "_model_module": "@jupyter-widgets/controls",
            "_model_module_version": "1.5.0",
            "_model_name": "HTMLModel",
            "_view_count": null,
            "_view_module": "@jupyter-widgets/controls",
            "_view_module_version": "1.5.0",
            "_view_name": "HTMLView",
            "description": "",
            "description_tooltip": null,
            "layout": "IPY_MODEL_58e57544a9504f668d396b52311bcbda",
            "placeholder": "​",
            "style": "IPY_MODEL_e9efe02e1e3f44f798a92a67d908ace3",
            "value": "100%"
          }
        },
        "3bedcd789ce7496c8415a7bc7865dd7f": {
          "model_module": "@jupyter-widgets/controls",
          "model_name": "FloatProgressModel",
          "model_module_version": "1.5.0",
          "state": {
            "_dom_classes": [],
            "_model_module": "@jupyter-widgets/controls",
            "_model_module_version": "1.5.0",
            "_model_name": "FloatProgressModel",
            "_view_count": null,
            "_view_module": "@jupyter-widgets/controls",
            "_view_module_version": "1.5.0",
            "_view_name": "ProgressView",
            "bar_style": "success",
            "description": "",
            "description_tooltip": null,
            "layout": "IPY_MODEL_768ac3e12e36417abf056270c598c43b",
            "max": 50,
            "min": 0,
            "orientation": "horizontal",
            "style": "IPY_MODEL_63c1cae9ec454061b3cb6a4b5812a474",
            "value": 50
          }
        },
        "bbab831394bd4ed6bfd8c888217452d6": {
          "model_module": "@jupyter-widgets/controls",
          "model_name": "HTMLModel",
          "model_module_version": "1.5.0",
          "state": {
            "_dom_classes": [],
            "_model_module": "@jupyter-widgets/controls",
            "_model_module_version": "1.5.0",
            "_model_name": "HTMLModel",
            "_view_count": null,
            "_view_module": "@jupyter-widgets/controls",
            "_view_module_version": "1.5.0",
            "_view_name": "HTMLView",
            "description": "",
            "description_tooltip": null,
            "layout": "IPY_MODEL_a4cb65e1a26a417cae0e55c93d360ad8",
            "placeholder": "​",
            "style": "IPY_MODEL_762df9c3c414410e8dc6b8b7aaae6721",
            "value": " 50/50 [02:38&lt;00:00,  3.42s/it]"
          }
        },
        "f3e0c9905ef94300901403524d3f4c79": {
          "model_module": "@jupyter-widgets/base",
          "model_name": "LayoutModel",
          "model_module_version": "1.2.0",
          "state": {
            "_model_module": "@jupyter-widgets/base",
            "_model_module_version": "1.2.0",
            "_model_name": "LayoutModel",
            "_view_count": null,
            "_view_module": "@jupyter-widgets/base",
            "_view_module_version": "1.2.0",
            "_view_name": "LayoutView",
            "align_content": null,
            "align_items": null,
            "align_self": null,
            "border": null,
            "bottom": null,
            "display": null,
            "flex": null,
            "flex_flow": null,
            "grid_area": null,
            "grid_auto_columns": null,
            "grid_auto_flow": null,
            "grid_auto_rows": null,
            "grid_column": null,
            "grid_gap": null,
            "grid_row": null,
            "grid_template_areas": null,
            "grid_template_columns": null,
            "grid_template_rows": null,
            "height": null,
            "justify_content": null,
            "justify_items": null,
            "left": null,
            "margin": null,
            "max_height": null,
            "max_width": null,
            "min_height": null,
            "min_width": null,
            "object_fit": null,
            "object_position": null,
            "order": null,
            "overflow": null,
            "overflow_x": null,
            "overflow_y": null,
            "padding": null,
            "right": null,
            "top": null,
            "visibility": null,
            "width": null
          }
        },
        "58e57544a9504f668d396b52311bcbda": {
          "model_module": "@jupyter-widgets/base",
          "model_name": "LayoutModel",
          "model_module_version": "1.2.0",
          "state": {
            "_model_module": "@jupyter-widgets/base",
            "_model_module_version": "1.2.0",
            "_model_name": "LayoutModel",
            "_view_count": null,
            "_view_module": "@jupyter-widgets/base",
            "_view_module_version": "1.2.0",
            "_view_name": "LayoutView",
            "align_content": null,
            "align_items": null,
            "align_self": null,
            "border": null,
            "bottom": null,
            "display": null,
            "flex": null,
            "flex_flow": null,
            "grid_area": null,
            "grid_auto_columns": null,
            "grid_auto_flow": null,
            "grid_auto_rows": null,
            "grid_column": null,
            "grid_gap": null,
            "grid_row": null,
            "grid_template_areas": null,
            "grid_template_columns": null,
            "grid_template_rows": null,
            "height": null,
            "justify_content": null,
            "justify_items": null,
            "left": null,
            "margin": null,
            "max_height": null,
            "max_width": null,
            "min_height": null,
            "min_width": null,
            "object_fit": null,
            "object_position": null,
            "order": null,
            "overflow": null,
            "overflow_x": null,
            "overflow_y": null,
            "padding": null,
            "right": null,
            "top": null,
            "visibility": null,
            "width": null
          }
        },
        "e9efe02e1e3f44f798a92a67d908ace3": {
          "model_module": "@jupyter-widgets/controls",
          "model_name": "DescriptionStyleModel",
          "model_module_version": "1.5.0",
          "state": {
            "_model_module": "@jupyter-widgets/controls",
            "_model_module_version": "1.5.0",
            "_model_name": "DescriptionStyleModel",
            "_view_count": null,
            "_view_module": "@jupyter-widgets/base",
            "_view_module_version": "1.2.0",
            "_view_name": "StyleView",
            "description_width": ""
          }
        },
        "768ac3e12e36417abf056270c598c43b": {
          "model_module": "@jupyter-widgets/base",
          "model_name": "LayoutModel",
          "model_module_version": "1.2.0",
          "state": {
            "_model_module": "@jupyter-widgets/base",
            "_model_module_version": "1.2.0",
            "_model_name": "LayoutModel",
            "_view_count": null,
            "_view_module": "@jupyter-widgets/base",
            "_view_module_version": "1.2.0",
            "_view_name": "LayoutView",
            "align_content": null,
            "align_items": null,
            "align_self": null,
            "border": null,
            "bottom": null,
            "display": null,
            "flex": null,
            "flex_flow": null,
            "grid_area": null,
            "grid_auto_columns": null,
            "grid_auto_flow": null,
            "grid_auto_rows": null,
            "grid_column": null,
            "grid_gap": null,
            "grid_row": null,
            "grid_template_areas": null,
            "grid_template_columns": null,
            "grid_template_rows": null,
            "height": null,
            "justify_content": null,
            "justify_items": null,
            "left": null,
            "margin": null,
            "max_height": null,
            "max_width": null,
            "min_height": null,
            "min_width": null,
            "object_fit": null,
            "object_position": null,
            "order": null,
            "overflow": null,
            "overflow_x": null,
            "overflow_y": null,
            "padding": null,
            "right": null,
            "top": null,
            "visibility": null,
            "width": null
          }
        },
        "63c1cae9ec454061b3cb6a4b5812a474": {
          "model_module": "@jupyter-widgets/controls",
          "model_name": "ProgressStyleModel",
          "model_module_version": "1.5.0",
          "state": {
            "_model_module": "@jupyter-widgets/controls",
            "_model_module_version": "1.5.0",
            "_model_name": "ProgressStyleModel",
            "_view_count": null,
            "_view_module": "@jupyter-widgets/base",
            "_view_module_version": "1.2.0",
            "_view_name": "StyleView",
            "bar_color": null,
            "description_width": ""
          }
        },
        "a4cb65e1a26a417cae0e55c93d360ad8": {
          "model_module": "@jupyter-widgets/base",
          "model_name": "LayoutModel",
          "model_module_version": "1.2.0",
          "state": {
            "_model_module": "@jupyter-widgets/base",
            "_model_module_version": "1.2.0",
            "_model_name": "LayoutModel",
            "_view_count": null,
            "_view_module": "@jupyter-widgets/base",
            "_view_module_version": "1.2.0",
            "_view_name": "LayoutView",
            "align_content": null,
            "align_items": null,
            "align_self": null,
            "border": null,
            "bottom": null,
            "display": null,
            "flex": null,
            "flex_flow": null,
            "grid_area": null,
            "grid_auto_columns": null,
            "grid_auto_flow": null,
            "grid_auto_rows": null,
            "grid_column": null,
            "grid_gap": null,
            "grid_row": null,
            "grid_template_areas": null,
            "grid_template_columns": null,
            "grid_template_rows": null,
            "height": null,
            "justify_content": null,
            "justify_items": null,
            "left": null,
            "margin": null,
            "max_height": null,
            "max_width": null,
            "min_height": null,
            "min_width": null,
            "object_fit": null,
            "object_position": null,
            "order": null,
            "overflow": null,
            "overflow_x": null,
            "overflow_y": null,
            "padding": null,
            "right": null,
            "top": null,
            "visibility": null,
            "width": null
          }
        },
        "762df9c3c414410e8dc6b8b7aaae6721": {
          "model_module": "@jupyter-widgets/controls",
          "model_name": "DescriptionStyleModel",
          "model_module_version": "1.5.0",
          "state": {
            "_model_module": "@jupyter-widgets/controls",
            "_model_module_version": "1.5.0",
            "_model_name": "DescriptionStyleModel",
            "_view_count": null,
            "_view_module": "@jupyter-widgets/base",
            "_view_module_version": "1.2.0",
            "_view_name": "StyleView",
            "description_width": ""
          }
        }
      }
    }
  },
  "nbformat": 4,
  "nbformat_minor": 0
}